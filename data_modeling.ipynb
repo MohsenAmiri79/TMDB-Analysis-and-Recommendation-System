{
 "cells": [
  {
   "cell_type": "markdown",
   "metadata": {},
   "source": [
    "### **Imports, Constants and Configurations:**"
   ]
  },
  {
   "cell_type": "code",
   "execution_count": null,
   "metadata": {},
   "outputs": [],
   "source": [
    "import warnings\n",
    "import itertools\n",
    "import collections\n",
    "import numpy as np\n",
    "import pandas as pd\n",
    "import seaborn as sns\n",
    "import matplotlib.pyplot as plt\n",
    "import matplotlib.ticker as ticker\n",
    "import matplotlib.colors as mcolors\n",
    "\n",
    "from sklearn.ensemble import RandomForestClassifier\n",
    "from sklearn.model_selection import train_test_split\n",
    "from sklearn.metrics import classification_report, accuracy_score\n",
    "\n",
    "from utilities.utils import move_to_front"
   ]
  },
  {
   "cell_type": "code",
   "execution_count": null,
   "metadata": {},
   "outputs": [],
   "source": [
    "NUMERICAL_COLS = [\n",
    "    'budget', 'popularity', 'runtime', 'vote_average',\n",
    "    'vote_count', 'Action', 'Adventure', 'Animation', 'Comedy', 'Crime', 'Documentary',\n",
    "    'Drama', 'Family', 'Fantasy', 'Foreign', 'History', 'Horror', 'Music', 'Mystery',\n",
    "    'Romance', 'Science Fiction', 'TV Movie', 'Thriller', 'War', 'Western',\n",
    "    'language_code', 'status_code', 'year', 'month', 'day', 'actor_1_code',\n",
    "    'actor_2_code', 'actor_3_code', 'actor_4_code', 'actor_5_code', 'production_company_code',\n",
    "]\n",
    "CREW_COLS = [\n",
    "    'actor_1_code', 'actor_2_code', 'actor_3_code',\n",
    "    'actor_4_code', 'actor_5_code', 'production_company_code',\n",
    "]\n",
    "GENRE_COLS = [\n",
    "    'Action', 'Adventure', 'Animation', 'Comedy', 'Crime', 'Documentary', 'Drama',\n",
    "    'Family', 'Fantasy', 'Foreign', 'History', 'Horror', 'Music', 'Mystery',\n",
    "    'Romance', 'Science Fiction', 'TV Movie', 'Thriller', 'War', 'Western'\n",
    "]\n",
    "# Numerical features that are not a genre or crew code\n",
    "NON_GENRE_COLS = move_to_front(list(set(NUMERICAL_COLS) - set(GENRE_COLS) - set(CREW_COLS)), 'revenue')"
   ]
  },
  {
   "cell_type": "code",
   "execution_count": null,
   "metadata": {},
   "outputs": [],
   "source": [
    "warnings.filterwarnings('ignore')"
   ]
  }
 ],
 "metadata": {
  "kernelspec": {
   "display_name": ".venv",
   "language": "python",
   "name": "python3"
  },
  "language_info": {
   "name": "python",
   "version": "3.10.11"
  }
 },
 "nbformat": 4,
 "nbformat_minor": 2
}
