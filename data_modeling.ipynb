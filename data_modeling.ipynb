{
 "cells": [
  {
   "cell_type": "markdown",
   "metadata": {},
   "source": [
    "### **Imports, Constants and Configurations:**"
   ]
  },
  {
   "cell_type": "code",
   "execution_count": 1,
   "metadata": {},
   "outputs": [],
   "source": [
    "import warnings\n",
    "import numpy as np\n",
    "import pandas as pd\n",
    "import seaborn as sns\n",
    "import matplotlib.pyplot as plt\n",
    "\n",
    "from joblib import dump\n",
    "\n",
    "from sklearn.decomposition import PCA\n",
    "from sklearn.feature_selection import SelectKBest, f_classif\n",
    "from sklearn.preprocessing import StandardScaler, MinMaxScaler\n",
    "\n",
    "from sklearn.model_selection import train_test_split\n",
    "from sklearn.metrics import classification_report, confusion_matrix\n",
    "from sklearn.linear_model import LogisticRegression\n",
    "from sklearn.tree import DecisionTreeClassifier\n",
    "from sklearn.ensemble import RandomForestClassifier\n",
    "from xgboost import XGBClassifier\n",
    "\n",
    "# Constants\n",
    "from scripts.configs import CON_CMAP\n",
    "from scripts.configs import NON_GENRE_COLS, GENRE_COLS\n",
    "from scripts.configs import NUMERICAL_COLS, LABEL_ENC_COLS"
   ]
  },
  {
   "cell_type": "code",
   "execution_count": 3,
   "metadata": {},
   "outputs": [],
   "source": [
    "warnings.filterwarnings('ignore')"
   ]
  },
  {
   "cell_type": "markdown",
   "metadata": {},
   "source": [
    "### **Loading Data:**"
   ]
  },
  {
   "cell_type": "code",
   "execution_count": 4,
   "metadata": {},
   "outputs": [],
   "source": [
    "movie_df = pd.read_csv(\"./data/movies_data.csv\").rename(columns={'Unnamed: 0': 'ID'})\n",
    "\n",
    "movie_df['original_language'] = movie_df['original_language'].astype('category')\n",
    "movie_df['status'] = movie_df['status'].astype('category')\n",
    "movie_df['actor_name_1'] = movie_df['actor_name_1'].astype('category')\n",
    "movie_df['actor_name_2'] = movie_df['actor_name_2'].astype('category')\n",
    "movie_df['actor_name_3'] = movie_df['actor_name_3'].astype('category')\n",
    "movie_df['actor_name_4'] = movie_df['actor_name_4'].astype('category')\n",
    "movie_df['actor_name_5'] = movie_df['actor_name_5'].astype('category')\n",
    "movie_df['production_company_name'] = movie_df['production_company_name'].astype('category')"
   ]
  },
  {
   "cell_type": "markdown",
   "metadata": {},
   "source": [
    "### **Target Definition:**"
   ]
  },
  {
   "cell_type": "code",
   "execution_count": 5,
   "metadata": {},
   "outputs": [],
   "source": [
    "movie_df['profitable'] = movie_df['profit_rate'].apply(lambda x: True if x > 1 else False)"
   ]
  },
  {
   "cell_type": "markdown",
   "metadata": {},
   "source": [
    "### **Feature Scaling and Normalization:**"
   ]
  },
  {
   "cell_type": "markdown",
   "metadata": {},
   "source": [
    "#### Normalizing Numerical Features:"
   ]
  },
  {
   "cell_type": "code",
   "execution_count": 6,
   "metadata": {},
   "outputs": [
    {
     "data": {
      "text/plain": [
       "['./models/numerical_scaler.joblib']"
      ]
     },
     "execution_count": 6,
     "metadata": {},
     "output_type": "execute_result"
    }
   ],
   "source": [
    "normalizer = StandardScaler()\n",
    "numeric_cols = ['revenue'] + NUMERICAL_COLS\n",
    "movie_df[numeric_cols] = normalizer.fit_transform(movie_df[numeric_cols])\n",
    "\n",
    "dump(normalizer, './models/numerical_scaler.joblib')"
   ]
  },
  {
   "cell_type": "markdown",
   "metadata": {},
   "source": [
    "#### Scaling Label-Encoded Features:"
   ]
  },
  {
   "cell_type": "code",
   "execution_count": 7,
   "metadata": {},
   "outputs": [
    {
     "data": {
      "text/plain": [
       "['./models/label_scaler.joblib']"
      ]
     },
     "execution_count": 7,
     "metadata": {},
     "output_type": "execute_result"
    }
   ],
   "source": [
    "scaler = MinMaxScaler()\n",
    "\n",
    "movie_df[LABEL_ENC_COLS] = scaler.fit_transform(movie_df[LABEL_ENC_COLS])\n",
    "\n",
    "dump(scaler, './models/label_scaler.joblib')"
   ]
  },
  {
   "cell_type": "markdown",
   "metadata": {},
   "source": [
    "### **Feature Extraction:**"
   ]
  },
  {
   "cell_type": "markdown",
   "metadata": {},
   "source": [
    "#### Genres:"
   ]
  },
  {
   "cell_type": "code",
   "execution_count": 8,
   "metadata": {},
   "outputs": [],
   "source": [
    "pca = PCA(n_components=5)\n",
    "\n",
    "principal_components = pca.fit_transform(movie_df[GENRE_COLS])\n",
    "\n",
    "dump(pca, './models/genre_pca.joblib')\n",
    "\n",
    "principalDf = pd.DataFrame(data=principal_components, columns=[f'genrePC{i+1}' for i in range(5)])"
   ]
  },
  {
   "cell_type": "markdown",
   "metadata": {},
   "source": [
    "### **Feature Selection:**"
   ]
  },
  {
   "cell_type": "code",
   "execution_count": 9,
   "metadata": {},
   "outputs": [
    {
     "name": "stdout",
     "output_type": "stream",
     "text": [
      "[ 0  1  3  5  7  8 11 12 13 15]\n"
     ]
    }
   ],
   "source": [
    "x = movie_df[NON_GENRE_COLS]\n",
    "y = movie_df['profitable']\n",
    "\n",
    "selector = SelectKBest(f_classif, k=10)\n",
    "X_new = selector.fit_transform(x, y)\n",
    "\n",
    "cols = selector.get_support(indices=True)\n",
    "selected_features_df = x.iloc[:,cols]\n",
    "\n",
    "dump(selector, './models/feature_selector.joblib')\n",
    "print(cols)"
   ]
  },
  {
   "cell_type": "markdown",
   "metadata": {},
   "source": [
    "### **Mixing All Features Together:**"
   ]
  },
  {
   "cell_type": "code",
   "execution_count": 10,
   "metadata": {},
   "outputs": [
    {
     "data": {
      "text/plain": [
       "Index(['language_code', 'year', 'runtime', 'actor_5_code', 'vote_average',\n",
       "       'month', 'budget', 'vote_count', 'popularity',\n",
       "       'production_company_code', 'genrePC1', 'genrePC2', 'genrePC3',\n",
       "       'genrePC4', 'genrePC5', 'profitable'],\n",
       "      dtype='object')"
      ]
     },
     "execution_count": 10,
     "metadata": {},
     "output_type": "execute_result"
    }
   ],
   "source": [
    "final_df = pd.concat([selected_features_df, principalDf , movie_df['profitable']], axis=1)\n",
    "final_df.columns"
   ]
  },
  {
   "cell_type": "markdown",
   "metadata": {},
   "source": [
    "### **Modeling:**"
   ]
  },
  {
   "cell_type": "markdown",
   "metadata": {},
   "source": [
    "#### Prepare train/test sets:"
   ]
  },
  {
   "cell_type": "code",
   "execution_count": 11,
   "metadata": {},
   "outputs": [],
   "source": [
    "target = 'profitable'\n",
    "features = [col for col in final_df.columns if col != target]\n",
    "\n",
    "# Split the data into training and testing sets\n",
    "X_train, X_test, y_train, y_test = train_test_split(final_df[features], final_df[target], test_size=0.2, random_state=42)\n",
    "y_train = y_train.astype(int)\n",
    "y_test = y_test.astype(int)"
   ]
  },
  {
   "cell_type": "markdown",
   "metadata": {},
   "source": [
    "#### Logistic Regression:"
   ]
  },
  {
   "cell_type": "code",
   "execution_count": 12,
   "metadata": {},
   "outputs": [
    {
     "name": "stdout",
     "output_type": "stream",
     "text": [
      "              precision    recall  f1-score   support\n",
      "\n",
      "           0       0.75      0.86      0.80       446\n",
      "           1       0.84      0.72      0.78       459\n",
      "\n",
      "    accuracy                           0.79       905\n",
      "   macro avg       0.79      0.79      0.79       905\n",
      "weighted avg       0.80      0.79      0.79       905\n",
      "\n"
     ]
    },
    {
     "data": {
      "image/png": "[encoded data removed]",
      "text/plain": [
       "<Figure size 400x300 with 2 Axes>"
      ]
     },
     "metadata": {},
     "output_type": "display_data"
    }
   ],
   "source": [
    "# Initialize the Logistic Regression model\n",
    "LR_model = LogisticRegression()\n",
    "\n",
    "# Fit the LR_model on the training data\n",
    "LR_model.fit(X_train, y_train)\n",
    "\n",
    "# Make predictions on the testing data\n",
    "predictions = LR_model.predict(X_test)\n",
    "\n",
    "# Print the classification report\n",
    "print(classification_report(y_test, predictions))\n",
    "\n",
    "conf_matrix = confusion_matrix(y_test, predictions)\n",
    "\n",
    "labels = ['TN', 'FP', 'FN', 'TP']\n",
    "labels = np.asarray(labels).reshape(2,2)\n",
    "\n",
    "labels_val = (np.asarray([\"{0}\\n{1}\".format(label, val) for label, val in zip(labels.flatten(), conf_matrix.flatten())])).reshape(2,2)\n",
    "\n",
    "plt.figure(figsize=(4,3))\n",
    "sns.heatmap(conf_matrix, annot=labels_val, fmt='', cmap=CON_CMAP)\n",
    "plt.xlabel(\"Predicted\")\n",
    "plt.ylabel(\"Ground Truth\")\n",
    "plt.title(\"Confusion Matrix (Logistic Regression)\")\n",
    "\n",
    "plt.xticks([0.5, 1.5], ['False', 'True'])\n",
    "plt.yticks([0.5, 1.5], ['False', 'True'])\n",
    "\n",
    "plt.show()"
   ]
  },
  {
   "cell_type": "markdown",
   "metadata": {},
   "source": [
    "#### Decision Tree:"
   ]
  },
  {
   "cell_type": "code",
   "execution_count": 13,
   "metadata": {},
   "outputs": [
    {
     "name": "stdout",
     "output_type": "stream",
     "text": [
      "              precision    recall  f1-score   support\n",
      "\n",
      "           0       0.79      0.76      0.77       446\n",
      "           1       0.78      0.80      0.79       459\n",
      "\n",
      "    accuracy                           0.78       905\n",
      "   macro avg       0.78      0.78      0.78       905\n",
      "weighted avg       0.78      0.78      0.78       905\n",
      "\n"
     ]
    },
    {
     "data": {
      "image/png": "[encoded data removed]",
      "text/plain": [
       "<Figure size 400x300 with 2 Axes>"
      ]
     },
     "metadata": {},
     "output_type": "display_data"
    }
   ],
   "source": [
    "# Initialize the Decision Tree model\n",
    "DT_model = DecisionTreeClassifier()\n",
    "\n",
    "# Fit the DT_model on the training data\n",
    "DT_model.fit(X_train, y_train)\n",
    "\n",
    "# Make predictions on the testing data\n",
    "predictions = DT_model.predict(X_test)\n",
    "\n",
    "# Print the classification report\n",
    "print(classification_report(y_test, predictions))\n",
    "\n",
    "conf_matrix = confusion_matrix(y_test, predictions)\n",
    "\n",
    "labels = ['TN', 'FP', 'FN', 'TP']\n",
    "labels = np.asarray(labels).reshape(2,2)\n",
    "\n",
    "labels_val = (np.asarray([\"{0}\\n{1}\".format(label, val) for label, val in zip(labels.flatten(), conf_matrix.flatten())])).reshape(2,2)\n",
    "\n",
    "plt.figure(figsize=(4,3))\n",
    "sns.heatmap(conf_matrix, annot=labels_val, fmt='', cmap=CON_CMAP)\n",
    "plt.xlabel(\"Predicted\")\n",
    "plt.ylabel(\"Ground Truth\")\n",
    "plt.title(\"Confusion Matrix (Decision Tree)\")\n",
    "\n",
    "plt.xticks([0.5, 1.5], ['False', 'True'])\n",
    "plt.yticks([0.5, 1.5], ['False', 'True'])\n",
    "\n",
    "plt.show()\n"
   ]
  },
  {
   "cell_type": "markdown",
   "metadata": {},
   "source": [
    "#### Random Forest:"
   ]
  },
  {
   "cell_type": "code",
   "execution_count": 14,
   "metadata": {},
   "outputs": [
    {
     "name": "stdout",
     "output_type": "stream",
     "text": [
      "              precision    recall  f1-score   support\n",
      "\n",
      "           0       0.83      0.82      0.82       446\n",
      "           1       0.83      0.83      0.83       459\n",
      "\n",
      "    accuracy                           0.83       905\n",
      "   macro avg       0.83      0.83      0.83       905\n",
      "weighted avg       0.83      0.83      0.83       905\n",
      "\n"
     ]
    },
    {
     "data": {
      "image/png": "[encoded data removed]",
      "text/plain": [
       "<Figure size 400x300 with 2 Axes>"
      ]
     },
     "metadata": {},
     "output_type": "display_data"
    }
   ],
   "source": [
    "# Initialize the Random Forest model\n",
    "RF_model = RandomForestClassifier()\n",
    "\n",
    "# Fit the RF_model on the training data\n",
    "RF_model.fit(X_train, y_train)\n",
    "\n",
    "# Make predictions on the testing data\n",
    "predictions = RF_model.predict(X_test)\n",
    "\n",
    "# Print the classification report\n",
    "print(classification_report(y_test, predictions))\n",
    "\n",
    "conf_matrix = confusion_matrix(y_test, predictions)\n",
    "\n",
    "labels = ['TN', 'FP', 'FN', 'TP']\n",
    "labels = np.asarray(labels).reshape(2,2)\n",
    "\n",
    "labels_val = (np.asarray([\"{0}\\n{1}\".format(label, val) for label, val in zip(labels.flatten(), conf_matrix.flatten())])).reshape(2,2)\n",
    "\n",
    "plt.figure(figsize=(4,3))\n",
    "sns.heatmap(conf_matrix, annot=labels_val, fmt='', cmap=CON_CMAP)\n",
    "plt.xlabel(\"Predicted\")\n",
    "plt.ylabel(\"Ground Truth\")\n",
    "plt.title(\"Confusion Matrix (Random Forest)\")\n",
    "\n",
    "plt.xticks([0.5, 1.5], ['False', 'True'])\n",
    "plt.yticks([0.5, 1.5], ['False', 'True'])\n",
    "\n",
    "plt.show()\n"
   ]
  },
  {
   "cell_type": "markdown",
   "metadata": {},
   "source": [
    "#### XGBoost:"
   ]
  },
  {
   "cell_type": "code",
   "execution_count": 15,
   "metadata": {},
   "outputs": [
    {
     "name": "stdout",
     "output_type": "stream",
     "text": [
      "              precision    recall  f1-score   support\n",
      "\n",
      "           0       0.85      0.82      0.83       446\n",
      "           1       0.83      0.86      0.84       459\n",
      "\n",
      "    accuracy                           0.84       905\n",
      "   macro avg       0.84      0.84      0.84       905\n",
      "weighted avg       0.84      0.84      0.84       905\n",
      "\n"
     ]
    },
    {
     "data": {
      "image/png": "[encoded data removed]",
      "text/plain": [
       "<Figure size 400x300 with 2 Axes>"
      ]
     },
     "metadata": {},
     "output_type": "display_data"
    }
   ],
   "source": [
    "# Initialize the XGBoost model\n",
    "XGB_model = XGBClassifier(use_label_encoder=False)\n",
    "\n",
    "# Fit the XGB_model on the training data\n",
    "XGB_model.fit(X_train, y_train)\n",
    "\n",
    "# Make predictions on the testing data\n",
    "predictions = XGB_model.predict(X_test)\n",
    "\n",
    "# Print the classification report\n",
    "print(classification_report(y_test, predictions))\n",
    "\n",
    "conf_matrix = confusion_matrix(y_test, predictions)\n",
    "\n",
    "labels = ['TN', 'FP', 'FN', 'TP']\n",
    "labels = np.asarray(labels).reshape(2,2)\n",
    "\n",
    "labels_val = (np.asarray([\"{0}\\n{1}\".format(label, val) for label, val in zip(labels.flatten(), conf_matrix.flatten())])).reshape(2,2)\n",
    "\n",
    "plt.figure(figsize=(4,3))\n",
    "sns.heatmap(conf_matrix, annot=labels_val, fmt='', cmap=CON_CMAP)\n",
    "plt.xlabel(\"Predicted\")\n",
    "plt.ylabel(\"Ground Truth\")\n",
    "plt.title(\"Confusion Matrix (XGBoost)\")\n",
    "\n",
    "plt.xticks([0.5, 1.5], ['False', 'True'])\n",
    "plt.yticks([0.5, 1.5], ['False', 'True'])\n",
    "\n",
    "plt.show()\n"
   ]
  },
  {
   "cell_type": "markdown",
   "metadata": {},
   "source": [
    "#### Saving All Models:"
   ]
  },
  {
   "cell_type": "code",
   "execution_count": 16,
   "metadata": {},
   "outputs": [
    {
     "data": {
      "text/plain": [
       "['./models/xgboost_model.joblib']"
      ]
     },
     "execution_count": 16,
     "metadata": {},
     "output_type": "execute_result"
    }
   ],
   "source": [
    "dump(LR_model, './models/logistic_regression_model.joblib')\n",
    "dump(DT_model, './models/decision_tree_model.joblib')\n",
    "dump(RF_model, './models/random_forest_model.joblib')\n",
    "dump(XGB_model, './models/xgboost_model.joblib')"
   ]
  }
 ],
 "metadata": {
  "kernelspec": {
   "display_name": ".venv",
   "language": "python",
   "name": "python3"
  },
  "language_info": {
   "codemirror_mode": {
    "name": "ipython",
    "version": 3
   },
   "file_extension": ".py",
   "mimetype": "text/x-python",
   "name": "python",
   "nbconvert_exporter": "python",
   "pygments_lexer": "ipython3",
   "version": "3.10.11"
  }
 },
 "nbformat": 4,
 "nbformat_minor": 2
}
