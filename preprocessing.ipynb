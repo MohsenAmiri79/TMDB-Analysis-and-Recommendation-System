{
 "cells": [
  {
   "cell_type": "markdown",
   "metadata": {
    "slideshow": {
     "slide_type": "subslide"
    }
   },
   "source": [
    "### **Imports and Configurations:**"
   ]
  },
  {
   "cell_type": "code",
   "execution_count": 1,
   "metadata": {},
   "outputs": [],
   "source": [
    "import warnings\n",
    "import pandas as pd\n",
    "import numpy as np\n",
    "import seaborn as sns\n",
    "import matplotlib.pyplot as plt\n",
    "from scipy.stats import zscore\n",
    "from ast import literal_eval\n",
    "\n",
    "from utilities.utils import print_as_table"
   ]
  },
  {
   "cell_type": "code",
   "execution_count": 2,
   "metadata": {},
   "outputs": [],
   "source": [
    "warnings.filterwarnings('ignore')"
   ]
  },
  {
   "cell_type": "markdown",
   "metadata": {},
   "source": [
    "### **Loading Data:**"
   ]
  },
  {
   "cell_type": "code",
   "execution_count": 3,
   "metadata": {},
   "outputs": [],
   "source": [
    "credits_df = pd.read_csv(\"./data/tmdb_5000_credits.csv\")\n",
    "info_df = pd.read_csv(\"./data/tmdb_5000_movies.csv\")"
   ]
  },
  {
   "cell_type": "markdown",
   "metadata": {},
   "source": [
    "#### Combining Dataframes:\n",
    "**NOTE:** First, we have to check if given IDs are indeed unique before merging the two dataframes to avoid conflicts"
   ]
  },
  {
   "cell_type": "code",
   "execution_count": 4,
   "metadata": {},
   "outputs": [
    {
     "name": "stdout",
     "output_type": "stream",
     "text": [
      "Credits Shape: [4803, 4]\n",
      "Info Shape: [4803, 20]\n",
      "\n",
      "All IDs in the credits dataframe are unique: True\n",
      "All IDs in the info dataframe are unique: True\n",
      "\n"
     ]
    },
    {
     "data": {
      "text/html": [
       "<div>\n",
       "<style scoped>\n",
       "    .dataframe tbody tr th:only-of-type {\n",
       "        vertical-align: middle;\n",
       "    }\n",
       "\n",
       "    .dataframe tbody tr th {\n",
       "        vertical-align: top;\n",
       "    }\n",
       "\n",
       "    .dataframe thead th {\n",
       "        text-align: right;\n",
       "    }\n",
       "</style>\n",
       "<table border=\"1\" class=\"dataframe\">\n",
       "  <thead>\n",
       "    <tr style=\"text-align: right;\">\n",
       "      <th></th>\n",
       "      <th>movie_id</th>\n",
       "      <th>title</th>\n",
       "      <th>cast</th>\n",
       "      <th>crew</th>\n",
       "      <th>budget</th>\n",
       "      <th>genres</th>\n",
       "      <th>homepage</th>\n",
       "      <th>keywords</th>\n",
       "      <th>original_language</th>\n",
       "      <th>overview</th>\n",
       "      <th>...</th>\n",
       "      <th>production_companies</th>\n",
       "      <th>production_countries</th>\n",
       "      <th>release_date</th>\n",
       "      <th>revenue</th>\n",
       "      <th>runtime</th>\n",
       "      <th>spoken_languages</th>\n",
       "      <th>status</th>\n",
       "      <th>tagline</th>\n",
       "      <th>vote_average</th>\n",
       "      <th>vote_count</th>\n",
       "    </tr>\n",
       "  </thead>\n",
       "  <tbody>\n",
       "    <tr>\n",
       "      <th>0</th>\n",
       "      <td>5</td>\n",
       "      <td>Four Rooms</td>\n",
       "      <td>[{\"cast_id\": 42, \"character\": \"Ted the Bellhop...</td>\n",
       "      <td>[{\"credit_id\": \"52fe420dc3a36847f800012d\", \"de...</td>\n",
       "      <td>4000000</td>\n",
       "      <td>[{\"id\": 80, \"name\": \"Crime\"}, {\"id\": 35, \"name...</td>\n",
       "      <td>NaN</td>\n",
       "      <td>[{\"id\": 612, \"name\": \"hotel\"}, {\"id\": 613, \"na...</td>\n",
       "      <td>en</td>\n",
       "      <td>It's Ted the Bellhop's first night on the job....</td>\n",
       "      <td>...</td>\n",
       "      <td>[{\"name\": \"Miramax Films\", \"id\": 14}, {\"name\":...</td>\n",
       "      <td>[{\"iso_3166_1\": \"US\", \"name\": \"United States o...</td>\n",
       "      <td>1995-12-09</td>\n",
       "      <td>4300000</td>\n",
       "      <td>98.0</td>\n",
       "      <td>[{\"iso_639_1\": \"en\", \"name\": \"English\"}]</td>\n",
       "      <td>Released</td>\n",
       "      <td>Twelve outrageous guests. Four scandalous requ...</td>\n",
       "      <td>6.5</td>\n",
       "      <td>530</td>\n",
       "    </tr>\n",
       "    <tr>\n",
       "      <th>1</th>\n",
       "      <td>11</td>\n",
       "      <td>Star Wars</td>\n",
       "      <td>[{\"cast_id\": 3, \"character\": \"Luke Skywalker\",...</td>\n",
       "      <td>[{\"credit_id\": \"52fe420dc3a36847f8000437\", \"de...</td>\n",
       "      <td>11000000</td>\n",
       "      <td>[{\"id\": 12, \"name\": \"Adventure\"}, {\"id\": 28, \"...</td>\n",
       "      <td>http://www.starwars.com/films/star-wars-episod...</td>\n",
       "      <td>[{\"id\": 803, \"name\": \"android\"}, {\"id\": 4270, ...</td>\n",
       "      <td>en</td>\n",
       "      <td>Princess Leia is captured and held hostage by ...</td>\n",
       "      <td>...</td>\n",
       "      <td>[{\"name\": \"Lucasfilm\", \"id\": 1}, {\"name\": \"Twe...</td>\n",
       "      <td>[{\"iso_3166_1\": \"US\", \"name\": \"United States o...</td>\n",
       "      <td>1977-05-25</td>\n",
       "      <td>775398007</td>\n",
       "      <td>121.0</td>\n",
       "      <td>[{\"iso_639_1\": \"en\", \"name\": \"English\"}]</td>\n",
       "      <td>Released</td>\n",
       "      <td>A long time ago in a galaxy far, far away...</td>\n",
       "      <td>8.1</td>\n",
       "      <td>6624</td>\n",
       "    </tr>\n",
       "    <tr>\n",
       "      <th>2</th>\n",
       "      <td>12</td>\n",
       "      <td>Finding Nemo</td>\n",
       "      <td>[{\"cast_id\": 8, \"character\": \"Marlin (voice)\",...</td>\n",
       "      <td>[{\"credit_id\": \"52fe420ec3a36847f80006b1\", \"de...</td>\n",
       "      <td>94000000</td>\n",
       "      <td>[{\"id\": 16, \"name\": \"Animation\"}, {\"id\": 10751...</td>\n",
       "      <td>http://movies.disney.com/finding-nemo</td>\n",
       "      <td>[{\"id\": 494, \"name\": \"father son relationship\"...</td>\n",
       "      <td>en</td>\n",
       "      <td>Nemo, an adventurous young clownfish, is unexp...</td>\n",
       "      <td>...</td>\n",
       "      <td>[{\"name\": \"Pixar Animation Studios\", \"id\": 3}]</td>\n",
       "      <td>[{\"iso_3166_1\": \"US\", \"name\": \"United States o...</td>\n",
       "      <td>2003-05-30</td>\n",
       "      <td>940335536</td>\n",
       "      <td>100.0</td>\n",
       "      <td>[{\"iso_639_1\": \"en\", \"name\": \"English\"}]</td>\n",
       "      <td>Released</td>\n",
       "      <td>There are 3.7 trillion fish in the ocean, they...</td>\n",
       "      <td>7.6</td>\n",
       "      <td>6122</td>\n",
       "    </tr>\n",
       "    <tr>\n",
       "      <th>3</th>\n",
       "      <td>13</td>\n",
       "      <td>Forrest Gump</td>\n",
       "      <td>[{\"cast_id\": 7, \"character\": \"Forrest Gump\", \"...</td>\n",
       "      <td>[{\"credit_id\": \"52fe420ec3a36847f800076b\", \"de...</td>\n",
       "      <td>55000000</td>\n",
       "      <td>[{\"id\": 35, \"name\": \"Comedy\"}, {\"id\": 18, \"nam...</td>\n",
       "      <td>NaN</td>\n",
       "      <td>[{\"id\": 422, \"name\": \"vietnam veteran\"}, {\"id\"...</td>\n",
       "      <td>en</td>\n",
       "      <td>A man with a low IQ has accomplished great thi...</td>\n",
       "      <td>...</td>\n",
       "      <td>[{\"name\": \"Paramount Pictures\", \"id\": 4}]</td>\n",
       "      <td>[{\"iso_3166_1\": \"US\", \"name\": \"United States o...</td>\n",
       "      <td>1994-07-06</td>\n",
       "      <td>677945399</td>\n",
       "      <td>142.0</td>\n",
       "      <td>[{\"iso_639_1\": \"en\", \"name\": \"English\"}]</td>\n",
       "      <td>Released</td>\n",
       "      <td>The world will never be the same, once you've ...</td>\n",
       "      <td>8.2</td>\n",
       "      <td>7927</td>\n",
       "    </tr>\n",
       "    <tr>\n",
       "      <th>4</th>\n",
       "      <td>14</td>\n",
       "      <td>American Beauty</td>\n",
       "      <td>[{\"cast_id\": 6, \"character\": \"Lester Burnham\",...</td>\n",
       "      <td>[{\"credit_id\": \"52fe420ec3a36847f8000809\", \"de...</td>\n",
       "      <td>15000000</td>\n",
       "      <td>[{\"id\": 18, \"name\": \"Drama\"}]</td>\n",
       "      <td>http://www.dreamworks.com/ab/</td>\n",
       "      <td>[{\"id\": 255, \"name\": \"male nudity\"}, {\"id\": 29...</td>\n",
       "      <td>en</td>\n",
       "      <td>Lester Burnham, a depressed suburban father in...</td>\n",
       "      <td>...</td>\n",
       "      <td>[{\"name\": \"DreamWorks SKG\", \"id\": 27}, {\"name\"...</td>\n",
       "      <td>[{\"iso_3166_1\": \"US\", \"name\": \"United States o...</td>\n",
       "      <td>1999-09-15</td>\n",
       "      <td>356296601</td>\n",
       "      <td>122.0</td>\n",
       "      <td>[{\"iso_639_1\": \"en\", \"name\": \"English\"}]</td>\n",
       "      <td>Released</td>\n",
       "      <td>Look closer.</td>\n",
       "      <td>7.9</td>\n",
       "      <td>3313</td>\n",
       "    </tr>\n",
       "  </tbody>\n",
       "</table>\n",
       "<p>5 rows × 21 columns</p>\n",
       "</div>"
      ],
      "text/plain": [
       "   movie_id            title  \\\n",
       "0         5       Four Rooms   \n",
       "1        11        Star Wars   \n",
       "2        12     Finding Nemo   \n",
       "3        13     Forrest Gump   \n",
       "4        14  American Beauty   \n",
       "\n",
       "                                                cast  \\\n",
       "0  [{\"cast_id\": 42, \"character\": \"Ted the Bellhop...   \n",
       "1  [{\"cast_id\": 3, \"character\": \"Luke Skywalker\",...   \n",
       "2  [{\"cast_id\": 8, \"character\": \"Marlin (voice)\",...   \n",
       "3  [{\"cast_id\": 7, \"character\": \"Forrest Gump\", \"...   \n",
       "4  [{\"cast_id\": 6, \"character\": \"Lester Burnham\",...   \n",
       "\n",
       "                                                crew    budget  \\\n",
       "0  [{\"credit_id\": \"52fe420dc3a36847f800012d\", \"de...   4000000   \n",
       "1  [{\"credit_id\": \"52fe420dc3a36847f8000437\", \"de...  11000000   \n",
       "2  [{\"credit_id\": \"52fe420ec3a36847f80006b1\", \"de...  94000000   \n",
       "3  [{\"credit_id\": \"52fe420ec3a36847f800076b\", \"de...  55000000   \n",
       "4  [{\"credit_id\": \"52fe420ec3a36847f8000809\", \"de...  15000000   \n",
       "\n",
       "                                              genres  \\\n",
       "0  [{\"id\": 80, \"name\": \"Crime\"}, {\"id\": 35, \"name...   \n",
       "1  [{\"id\": 12, \"name\": \"Adventure\"}, {\"id\": 28, \"...   \n",
       "2  [{\"id\": 16, \"name\": \"Animation\"}, {\"id\": 10751...   \n",
       "3  [{\"id\": 35, \"name\": \"Comedy\"}, {\"id\": 18, \"nam...   \n",
       "4                      [{\"id\": 18, \"name\": \"Drama\"}]   \n",
       "\n",
       "                                            homepage  \\\n",
       "0                                                NaN   \n",
       "1  http://www.starwars.com/films/star-wars-episod...   \n",
       "2              http://movies.disney.com/finding-nemo   \n",
       "3                                                NaN   \n",
       "4                      http://www.dreamworks.com/ab/   \n",
       "\n",
       "                                            keywords original_language  \\\n",
       "0  [{\"id\": 612, \"name\": \"hotel\"}, {\"id\": 613, \"na...                en   \n",
       "1  [{\"id\": 803, \"name\": \"android\"}, {\"id\": 4270, ...                en   \n",
       "2  [{\"id\": 494, \"name\": \"father son relationship\"...                en   \n",
       "3  [{\"id\": 422, \"name\": \"vietnam veteran\"}, {\"id\"...                en   \n",
       "4  [{\"id\": 255, \"name\": \"male nudity\"}, {\"id\": 29...                en   \n",
       "\n",
       "                                            overview  ...  \\\n",
       "0  It's Ted the Bellhop's first night on the job....  ...   \n",
       "1  Princess Leia is captured and held hostage by ...  ...   \n",
       "2  Nemo, an adventurous young clownfish, is unexp...  ...   \n",
       "3  A man with a low IQ has accomplished great thi...  ...   \n",
       "4  Lester Burnham, a depressed suburban father in...  ...   \n",
       "\n",
       "                                production_companies  \\\n",
       "0  [{\"name\": \"Miramax Films\", \"id\": 14}, {\"name\":...   \n",
       "1  [{\"name\": \"Lucasfilm\", \"id\": 1}, {\"name\": \"Twe...   \n",
       "2     [{\"name\": \"Pixar Animation Studios\", \"id\": 3}]   \n",
       "3          [{\"name\": \"Paramount Pictures\", \"id\": 4}]   \n",
       "4  [{\"name\": \"DreamWorks SKG\", \"id\": 27}, {\"name\"...   \n",
       "\n",
       "                                production_countries release_date    revenue  \\\n",
       "0  [{\"iso_3166_1\": \"US\", \"name\": \"United States o...   1995-12-09    4300000   \n",
       "1  [{\"iso_3166_1\": \"US\", \"name\": \"United States o...   1977-05-25  775398007   \n",
       "2  [{\"iso_3166_1\": \"US\", \"name\": \"United States o...   2003-05-30  940335536   \n",
       "3  [{\"iso_3166_1\": \"US\", \"name\": \"United States o...   1994-07-06  677945399   \n",
       "4  [{\"iso_3166_1\": \"US\", \"name\": \"United States o...   1999-09-15  356296601   \n",
       "\n",
       "   runtime                          spoken_languages    status  \\\n",
       "0     98.0  [{\"iso_639_1\": \"en\", \"name\": \"English\"}]  Released   \n",
       "1    121.0  [{\"iso_639_1\": \"en\", \"name\": \"English\"}]  Released   \n",
       "2    100.0  [{\"iso_639_1\": \"en\", \"name\": \"English\"}]  Released   \n",
       "3    142.0  [{\"iso_639_1\": \"en\", \"name\": \"English\"}]  Released   \n",
       "4    122.0  [{\"iso_639_1\": \"en\", \"name\": \"English\"}]  Released   \n",
       "\n",
       "                                             tagline vote_average  vote_count  \n",
       "0  Twelve outrageous guests. Four scandalous requ...          6.5         530  \n",
       "1       A long time ago in a galaxy far, far away...          8.1        6624  \n",
       "2  There are 3.7 trillion fish in the ocean, they...          7.6        6122  \n",
       "3  The world will never be the same, once you've ...          8.2        7927  \n",
       "4                                       Look closer.          7.9        3313  \n",
       "\n",
       "[5 rows x 21 columns]"
      ]
     },
     "execution_count": 4,
     "metadata": {},
     "output_type": "execute_result"
    }
   ],
   "source": [
    "# Checking whether id columns are unique\n",
    "print(f\"Credits Shape: {list(credits_df.shape)}\")\n",
    "print(f\"Info Shape: {list(info_df.shape)}\", end=\"\\n\\n\")\n",
    "\n",
    "\n",
    "print(f\"All IDs in the credits dataframe are unique: {credits_df['movie_id'].nunique() == len(credits_df)}\")\n",
    "print(f\"All IDs in the info dataframe are unique: {info_df['id'].nunique() == len(info_df)}\", end='\\n\\n')\n",
    "\n",
    "# Merging dataframes\n",
    "movies_df = credits_df.merge(info_df, left_on='movie_id', right_on='id', how='outer').drop(columns=['id', 'title_y', 'original_title'])\n",
    "movies_df.rename(columns={'title_x': 'title',\n",
    "                          }, inplace=True)\n",
    "movies_df.head()"
   ]
  },
  {
   "cell_type": "markdown",
   "metadata": {},
   "source": [
    "### **Exploring the data:**"
   ]
  },
  {
   "cell_type": "code",
   "execution_count": 5,
   "metadata": {},
   "outputs": [
    {
     "name": "stdout",
     "output_type": "stream",
     "text": [
      "Data Columns:\n",
      "| movie_id | title | cast | crew | budget |\n",
      "| genres | homepage | keywords | original_language | overview |\n",
      "| popularity | production_companies | production_countries | release_date | revenue |\n",
      "| runtime | spoken_languages | status | tagline | vote_average |\n",
      "| vote_count |\n",
      "\n",
      "Data Shape: (4803, 21)\n",
      "\n",
      "NaN Counts:\n",
      "movie_id                   0\n",
      "title                      0\n",
      "cast                       0\n",
      "crew                       0\n",
      "budget                     0\n",
      "genres                     0\n",
      "homepage                3091\n",
      "keywords                   0\n",
      "original_language          0\n",
      "overview                   3\n",
      "popularity                 0\n",
      "production_companies       0\n",
      "production_countries       0\n",
      "release_date               1\n",
      "revenue                    0\n",
      "runtime                    2\n",
      "spoken_languages           0\n",
      "status                     0\n",
      "tagline                  844\n",
      "vote_average               0\n",
      "vote_count                 0\n",
      "dtype: int64\n",
      "\n",
      "Unique Value Counts:\n",
      "movie_id                4803\n",
      "title                   4800\n",
      "cast                    4761\n",
      "crew                    4776\n",
      "budget                   436\n",
      "genres                  1175\n",
      "homepage                1691\n",
      "keywords                4222\n",
      "original_language         37\n",
      "overview                4800\n",
      "popularity              4802\n",
      "production_companies    3697\n",
      "production_countries     469\n",
      "release_date            3280\n",
      "revenue                 3297\n",
      "runtime                  156\n",
      "spoken_languages         544\n",
      "status                     3\n",
      "tagline                 3944\n",
      "vote_average              71\n",
      "vote_count              1609\n",
      "dtype: int64\n",
      "\n",
      "Dataset Description:\n",
      "            movie_id        budget   popularity       revenue      runtime  \\\n",
      "count    4803.000000  4.803000e+03  4803.000000  4.803000e+03  4801.000000   \n",
      "mean    57165.484281  2.904504e+07    21.492301  8.226064e+07   106.875859   \n",
      "std     88694.614033  4.072239e+07    31.816650  1.628571e+08    22.611935   \n",
      "min         5.000000  0.000000e+00     0.000000  0.000000e+00     0.000000   \n",
      "25%      9014.500000  7.900000e+05     4.668070  0.000000e+00    94.000000   \n",
      "50%     14629.000000  1.500000e+07    12.921594  1.917000e+07   103.000000   \n",
      "75%     58610.500000  4.000000e+07    28.313505  9.291719e+07   118.000000   \n",
      "max    459488.000000  3.800000e+08   875.581305  2.787965e+09   338.000000   \n",
      "\n",
      "       vote_average    vote_count  \n",
      "count   4803.000000   4803.000000  \n",
      "mean       6.092172    690.217989  \n",
      "std        1.194612   1234.585891  \n",
      "min        0.000000      0.000000  \n",
      "25%        5.600000     54.000000  \n",
      "50%        6.200000    235.000000  \n",
      "75%        6.800000    737.000000  \n",
      "max       10.000000  13752.000000  \n",
      "\n"
     ]
    }
   ],
   "source": [
    "print(\"Data Columns:\")\n",
    "print_as_table(movies_df.columns, 5)\n",
    "print(f\"Data Shape: {movies_df.shape}\", end=\"\\n\\n\")\n",
    "print(f\"NaN Counts:\\n{movies_df.isna().sum()}\", end=\"\\n\\n\")\n",
    "print(f\"Unique Value Counts:\\n{movies_df.nunique()}\", end=\"\\n\\n\")\n",
    "print(f\"Dataset Description:\\n{movies_df.describe()}\", end=\"\\n\\n\")"
   ]
  },
  {
   "cell_type": "markdown",
   "metadata": {},
   "source": [
    "### **Cleaning Numerical Columns:**"
   ]
  },
  {
   "cell_type": "markdown",
   "metadata": {},
   "source": [
    "#### Managing Wrong Values:\n",
    "Although columns like `budget` and `revenue` can be zero, it doesn't make sense for the `runtime` column to be zero. movies with zero runtime are removed from the dataset!"
   ]
  },
  {
   "cell_type": "code",
   "execution_count": 6,
   "metadata": {},
   "outputs": [
    {
     "name": "stdout",
     "output_type": "stream",
     "text": [
      "Number of movies with zero runtime: 35\n"
     ]
    }
   ],
   "source": [
    "zero_count = (movies_df['runtime'] == 0).sum()\n",
    "print(f\"Number of movies with zero runtime: {zero_count}\")\n",
    "\n",
    "# Set to nan\n",
    "movies_df.loc[movies_df['runtime'] == 0, 'runtime'] = np.nan"
   ]
  },
  {
   "cell_type": "markdown",
   "metadata": {},
   "source": [
    "#### Managing Missing Values:\n",
    "We replace missing values in `homepage` and `tagline` columns with empty strings, just in case we need them in the future.\n",
    "\n",
    "The runtime column has some nan values which can be imputed statistically usnig the mean.\n",
    "\n",
    "The rest of missing values are minimal and can be removed from dataset without any compromise."
   ]
  },
  {
   "cell_type": "code",
   "execution_count": 7,
   "metadata": {},
   "outputs": [],
   "source": [
    "movies_df['homepage'] = movies_df['homepage'].fillna('')\n",
    "movies_df['tagline'] = movies_df['tagline'].fillna('')\n",
    "\n",
    "movies_df['runtime'].fillna(movies_df['runtime'].mean(), inplace=True)\n",
    "\n",
    "movies_df = movies_df.dropna()"
   ]
  },
  {
   "cell_type": "markdown",
   "metadata": {},
   "source": [
    "#### Managing Outliers:\n",
    "We use a z-score of 3.5 as the outlier threshold. "
   ]
  },
  {
   "cell_type": "code",
   "execution_count": 8,
   "metadata": {},
   "outputs": [
    {
     "name": "stdout",
     "output_type": "stream",
     "text": [
      "Numeric Columns: ['budget', 'popularity', 'revenue', 'runtime', 'vote_average', 'vote_count']\n",
      "\n",
      "New Data Shape: (4520, 21)\n",
      "\n",
      "Number of Detected Outliers: 279\n"
     ]
    }
   ],
   "source": [
    "numeric_cols = ['budget', 'popularity', 'revenue', 'runtime', 'vote_average', 'vote_count']\n",
    "z_scores = np.abs(zscore(movies_df[numeric_cols]))\n",
    "mask = (z_scores < 3.5).all(axis=1)\n",
    "new_movies_df = movies_df[mask]\n",
    "\n",
    "print(f\"Numeric Columns: {list(numeric_cols)}\", end=\"\\n\\n\")\n",
    "print(f\"New Data Shape: {new_movies_df.shape}\", end=\"\\n\\n\")\n",
    "print(f\"Number of Detected Outliers: {len(movies_df) - len(new_movies_df)}\")"
   ]
  },
  {
   "cell_type": "markdown",
   "metadata": {},
   "source": [
    "#### **Plotting Changes After Removing Outliers:** \n",
    "This is a histogram of each column before and after removing outliers:"
   ]
  },
  {
   "cell_type": "code",
   "execution_count": 9,
   "metadata": {},
   "outputs": [
    {
     "name": "stdout",
     "output_type": "stream",
     "text": [
      "Column 'budget' Skewness with outliers: 2.436114996530251\n",
      "                        without outliers: 1.8284706706406866\n",
      "Column 'popularity' Skewness with outliers: 9.721300885675499\n",
      "                        without outliers: 1.7102527891685373\n",
      "Column 'revenue' Skewness with outliers: 4.44312850497165\n",
      "                        without outliers: 2.5163613512898606\n",
      "Column 'runtime' Skewness with outliers: 1.830701174438494\n",
      "                        without outliers: 0.9139991423874185\n",
      "Column 'vote_average' Skewness with outliers: 1.941961006368368\n",
      "                        without outliers: 0.5973033575131518\n",
      "Column 'vote_count' Skewness with outliers: 3.8227043564784267\n",
      "                        without outliers: 2.568523151578803\n"
     ]
    },
    {
     "data": {
      "image/png": "[encoded data removed]",
      "text/plain": [
       "<Figure size 1200x2400 with 12 Axes>"
      ]
     },
     "metadata": {},
     "output_type": "display_data"
    }
   ],
   "source": [
    "numeric_cols = ['budget', 'popularity', 'revenue', 'runtime', 'vote_average', 'vote_count']\n",
    "fig, axes = plt.subplots(6,2, figsize=(12,24))\n",
    "plt.subplots_adjust(hspace=.5)\n",
    "axes[0, 0].set_title('Dataset w/ Outliers')\n",
    "axes[0, 1].set_title('Dataset w/o Outliers')\n",
    "for idx, col in enumerate(numeric_cols):\n",
    "    print(f\"Column '{col}' Skewness with outliers: {abs(movies_df[col].skew())}\")\n",
    "    print(f\"                        without outliers: {abs(new_movies_df[col].skew())}\")\n",
    "\n",
    "    col_range = np.ptp(movies_df[col])\n",
    "    new_col_range = np.ptp(new_movies_df[col])\n",
    "    bin_width = col_range / 40\n",
    "    new_num_bins = int(new_col_range // bin_width)\n",
    "\n",
    "    sns.histplot(data=movies_df, x=col, ax=axes[idx, 0], bins=40)\n",
    "    sns.histplot(data=new_movies_df, x=col, ax=axes[idx, 1], bins=new_num_bins)\n",
    "\n",
    "    xlim = axes[idx, 0].get_xlim()\n",
    "    ylim = axes[idx, 0].get_ylim()\n",
    "    axes[idx, 1].set_xlim(xlim)\n",
    "    axes[idx, 1].set_ylim(ylim)"
   ]
  },
  {
   "cell_type": "markdown",
   "metadata": {},
   "source": [
    "### **Cleaning Non-numerical Columns:**"
   ]
  },
  {
   "cell_type": "markdown",
   "metadata": {},
   "source": [
    "#### Creating a dataframe of the cast:\n",
    "In this step, we create a separate dataframe for the cast of each movie. "
   ]
  },
  {
   "cell_type": "code",
   "execution_count": 20,
   "metadata": {},
   "outputs": [
    {
     "data": {
      "text/plain": [
       "('Number of movies with less than 5 cast: 138',\n",
       " 'Number of movies with less than 3 cast: 42')"
      ]
     },
     "execution_count": 20,
     "metadata": {},
     "output_type": "execute_result"
    }
   ],
   "source": [
    "# Creating a Casts Dataframe\n",
    "cast_df = new_movies_df[['movie_id', 'revenue','cast']]\n",
    "cast_df['cast'] = cast_df['cast'].apply(literal_eval)\n",
    "cast_df = cast_df.explode('cast').reset_index(drop=True)\n",
    "\n",
    "\n",
    "'Number of movies with less than 5 cast: ' +  str((cast_df.groupby('movie_id').count() < 5)['cast'].sum()), \\\n",
    "'Number of movies with less than 3 cast: ' +  str((cast_df.groupby('movie_id').count() < 3)['cast'].sum())"
   ]
  },
  {
   "cell_type": "code",
   "execution_count": 11,
   "metadata": {},
   "outputs": [
    {
     "name": "stdout",
     "output_type": "stream",
     "text": [
      "NaN Counts (REMOVED):\n",
      "movie_id      0\n",
      "revenue       0\n",
      "cast         23\n",
      "cast_id      23\n",
      "cast_name    23\n",
      "order        23\n",
      "dtype: int64\n"
     ]
    },
    {
     "data": {
      "text/html": [
       "<div>\n",
       "<style scoped>\n",
       "    .dataframe tbody tr th:only-of-type {\n",
       "        vertical-align: middle;\n",
       "    }\n",
       "\n",
       "    .dataframe tbody tr th {\n",
       "        vertical-align: top;\n",
       "    }\n",
       "\n",
       "    .dataframe thead th {\n",
       "        text-align: right;\n",
       "    }\n",
       "</style>\n",
       "<table border=\"1\" class=\"dataframe\">\n",
       "  <thead>\n",
       "    <tr style=\"text-align: right;\">\n",
       "      <th></th>\n",
       "      <th>movie_id</th>\n",
       "      <th>cast_id</th>\n",
       "      <th>cast_name</th>\n",
       "      <th>order</th>\n",
       "    </tr>\n",
       "  </thead>\n",
       "  <tbody>\n",
       "    <tr>\n",
       "      <th>0</th>\n",
       "      <td>5</td>\n",
       "      <td>3129.0</td>\n",
       "      <td>Tim Roth</td>\n",
       "      <td>0.0</td>\n",
       "    </tr>\n",
       "    <tr>\n",
       "      <th>1</th>\n",
       "      <td>5</td>\n",
       "      <td>3131.0</td>\n",
       "      <td>Antonio Banderas</td>\n",
       "      <td>1.0</td>\n",
       "    </tr>\n",
       "    <tr>\n",
       "      <th>2</th>\n",
       "      <td>5</td>\n",
       "      <td>3130.0</td>\n",
       "      <td>Jennifer Beals</td>\n",
       "      <td>2.0</td>\n",
       "    </tr>\n",
       "    <tr>\n",
       "      <th>3</th>\n",
       "      <td>5</td>\n",
       "      <td>3125.0</td>\n",
       "      <td>Madonna</td>\n",
       "      <td>3.0</td>\n",
       "    </tr>\n",
       "    <tr>\n",
       "      <th>4</th>\n",
       "      <td>5</td>\n",
       "      <td>3141.0</td>\n",
       "      <td>Marisa Tomei</td>\n",
       "      <td>4.0</td>\n",
       "    </tr>\n",
       "    <tr>\n",
       "      <th>...</th>\n",
       "      <td>...</td>\n",
       "      <td>...</td>\n",
       "      <td>...</td>\n",
       "      <td>...</td>\n",
       "    </tr>\n",
       "    <tr>\n",
       "      <th>95596</th>\n",
       "      <td>426469</td>\n",
       "      <td>1505855.0</td>\n",
       "      <td>Paul Castro Jr.</td>\n",
       "      <td>18.0</td>\n",
       "    </tr>\n",
       "    <tr>\n",
       "      <th>95597</th>\n",
       "      <td>426469</td>\n",
       "      <td>1744340.0</td>\n",
       "      <td>Edward Prostak</td>\n",
       "      <td>19.0</td>\n",
       "    </tr>\n",
       "    <tr>\n",
       "      <th>95598</th>\n",
       "      <td>426469</td>\n",
       "      <td>1506479.0</td>\n",
       "      <td>Deema Aitken</td>\n",
       "      <td>20.0</td>\n",
       "    </tr>\n",
       "    <tr>\n",
       "      <th>95599</th>\n",
       "      <td>426469</td>\n",
       "      <td>1085656.0</td>\n",
       "      <td>Laurie Dawn</td>\n",
       "      <td>21.0</td>\n",
       "    </tr>\n",
       "    <tr>\n",
       "      <th>95600</th>\n",
       "      <td>426469</td>\n",
       "      <td>1593004.0</td>\n",
       "      <td>Ben Sloane</td>\n",
       "      <td>22.0</td>\n",
       "    </tr>\n",
       "  </tbody>\n",
       "</table>\n",
       "<p>95578 rows × 4 columns</p>\n",
       "</div>"
      ],
      "text/plain": [
       "       movie_id    cast_id         cast_name  order\n",
       "0             5     3129.0          Tim Roth    0.0\n",
       "1             5     3131.0  Antonio Banderas    1.0\n",
       "2             5     3130.0    Jennifer Beals    2.0\n",
       "3             5     3125.0           Madonna    3.0\n",
       "4             5     3141.0      Marisa Tomei    4.0\n",
       "...         ...        ...               ...    ...\n",
       "95596    426469  1505855.0   Paul Castro Jr.   18.0\n",
       "95597    426469  1744340.0    Edward Prostak   19.0\n",
       "95598    426469  1506479.0      Deema Aitken   20.0\n",
       "95599    426469  1085656.0       Laurie Dawn   21.0\n",
       "95600    426469  1593004.0        Ben Sloane   22.0\n",
       "\n",
       "[95578 rows x 4 columns]"
      ]
     },
     "execution_count": 11,
     "metadata": {},
     "output_type": "execute_result"
    }
   ],
   "source": [
    "# Removing excess information about the cast\n",
    "cast_df['cast_id'] = cast_df['cast'].apply(lambda x: x.get('id') if isinstance(x, dict) else None)\n",
    "cast_df['cast_name'] = cast_df['cast'].apply(lambda x: x.get('name') if isinstance(x, dict) else None)\n",
    "cast_df['order'] = cast_df['cast'].apply(lambda x: x.get('order') if isinstance(x, dict) else None)\n",
    "\n",
    "print(f\"NaN Counts (REMOVED):\\n{cast_df.isna().sum()}\")\n",
    "\n",
    "new_cast_df = cast_df.drop(columns=['cast', 'revenue']).dropna()\n",
    "cast_df['cast_id'] = cast_df['cast_id']\n",
    "new_cast_df"
   ]
  },
  {
   "cell_type": "markdown",
   "metadata": {},
   "source": [
    "**NOTE:** Since the number of movies with less than 5 cast members is insignificant, we will have the top 5 members of the cast in our analytical process."
   ]
  },
  {
   "cell_type": "markdown",
   "metadata": {},
   "source": [
    "#### Choosing top 5 cast members to include in the data:\n",
    "For this purpose, we can either rank actors by the average of revenues of their movies or by the provided order in tmdb.\n",
    "\n",
    "First we examine the first method:"
   ]
  },
  {
   "cell_type": "code",
   "execution_count": 12,
   "metadata": {},
   "outputs": [
    {
     "data": {
      "text/html": [
       "<div>\n",
       "<style scoped>\n",
       "    .dataframe tbody tr th:only-of-type {\n",
       "        vertical-align: middle;\n",
       "    }\n",
       "\n",
       "    .dataframe tbody tr th {\n",
       "        vertical-align: top;\n",
       "    }\n",
       "\n",
       "    .dataframe thead th {\n",
       "        text-align: right;\n",
       "    }\n",
       "</style>\n",
       "<table border=\"1\" class=\"dataframe\">\n",
       "  <thead>\n",
       "    <tr style=\"text-align: right;\">\n",
       "      <th></th>\n",
       "      <th>cast_id</th>\n",
       "      <th>revenue</th>\n",
       "    </tr>\n",
       "  </thead>\n",
       "  <tbody>\n",
       "    <tr>\n",
       "      <th>0</th>\n",
       "      <td>33190.0</td>\n",
       "      <td>649398328.0</td>\n",
       "    </tr>\n",
       "    <tr>\n",
       "      <th>1</th>\n",
       "      <td>33188.0</td>\n",
       "      <td>649398328.0</td>\n",
       "    </tr>\n",
       "    <tr>\n",
       "      <th>2</th>\n",
       "      <td>1427944.0</td>\n",
       "      <td>649398328.0</td>\n",
       "    </tr>\n",
       "    <tr>\n",
       "      <th>3</th>\n",
       "      <td>131634.0</td>\n",
       "      <td>649398328.0</td>\n",
       "    </tr>\n",
       "    <tr>\n",
       "      <th>4</th>\n",
       "      <td>1427935.0</td>\n",
       "      <td>649398328.0</td>\n",
       "    </tr>\n",
       "    <tr>\n",
       "      <th>...</th>\n",
       "      <td>...</td>\n",
       "      <td>...</td>\n",
       "    </tr>\n",
       "    <tr>\n",
       "      <th>50255</th>\n",
       "      <td>1605092.0</td>\n",
       "      <td>0.0</td>\n",
       "    </tr>\n",
       "    <tr>\n",
       "      <th>50256</th>\n",
       "      <td>1605353.0</td>\n",
       "      <td>0.0</td>\n",
       "    </tr>\n",
       "    <tr>\n",
       "      <th>50257</th>\n",
       "      <td>1605499.0</td>\n",
       "      <td>0.0</td>\n",
       "    </tr>\n",
       "    <tr>\n",
       "      <th>50258</th>\n",
       "      <td>1605500.0</td>\n",
       "      <td>0.0</td>\n",
       "    </tr>\n",
       "    <tr>\n",
       "      <th>50259</th>\n",
       "      <td>1265253.0</td>\n",
       "      <td>0.0</td>\n",
       "    </tr>\n",
       "  </tbody>\n",
       "</table>\n",
       "<p>50260 rows × 2 columns</p>\n",
       "</div>"
      ],
      "text/plain": [
       "         cast_id      revenue\n",
       "0        33190.0  649398328.0\n",
       "1        33188.0  649398328.0\n",
       "2      1427944.0  649398328.0\n",
       "3       131634.0  649398328.0\n",
       "4      1427935.0  649398328.0\n",
       "...          ...          ...\n",
       "50255  1605092.0          0.0\n",
       "50256  1605353.0          0.0\n",
       "50257  1605499.0          0.0\n",
       "50258  1605500.0          0.0\n",
       "50259  1265253.0          0.0\n",
       "\n",
       "[50260 rows x 2 columns]"
      ]
     },
     "execution_count": 12,
     "metadata": {},
     "output_type": "execute_result"
    }
   ],
   "source": [
    "cast_rankings = cast_df[['cast_id', 'revenue']].groupby('cast_id').mean('revenue')\n",
    "cast_rankings = cast_rankings.sort_values(by='revenue', ascending=False).reset_index()\n",
    "cast_rankings"
   ]
  },
  {
   "cell_type": "markdown",
   "metadata": {},
   "source": [
    "As it can be seen, this method puts too much of a high value on side characters of super successful movies, which is not convenient.\n",
    "\n",
    "Therefore, we will use the provided order.\n",
    "\n",
    "**NOTE:** Since the dataframe is not clean and orders don't necessarily contain 0 through 4, we have to extract the minimum manually 5 times."
   ]
  },
  {
   "cell_type": "code",
   "execution_count": 13,
   "metadata": {},
   "outputs": [
    {
     "data": {
      "text/plain": [
       "movie_id                  0\n",
       "title                     0\n",
       "cast                      0\n",
       "crew                      0\n",
       "budget                    0\n",
       "genres                    0\n",
       "homepage                  0\n",
       "keywords                  0\n",
       "original_language         0\n",
       "overview                  0\n",
       "popularity                0\n",
       "production_companies      0\n",
       "production_countries      0\n",
       "release_date              0\n",
       "revenue                   0\n",
       "runtime                   0\n",
       "spoken_languages          0\n",
       "status                    0\n",
       "tagline                   0\n",
       "vote_average              0\n",
       "vote_count                0\n",
       "actor_name_1             25\n",
       "actor_name_2             35\n",
       "actor_name_3             47\n",
       "actor_name_4            105\n",
       "actor_name_5            401\n",
       "dtype: int64"
      ]
     },
     "execution_count": 13,
     "metadata": {},
     "output_type": "execute_result"
    }
   ],
   "source": [
    "top_casts_df = new_cast_df.where(new_cast_df['order'] <= 4.0).dropna()\n",
    "cast_movie_df = new_movies_df\n",
    "\n",
    "for idx in range(5):\n",
    "    top_idx = top_casts_df.groupby('movie_id')['order'].idxmin()\n",
    "    top = top_casts_df.loc[top_idx]\n",
    "    cast_movie_df = pd.merge(cast_movie_df, top, on='movie_id', how='left').drop(columns=['cast_id', 'order']).rename(columns={'cast_name': f\"actor_name_{idx+1}\"})\n",
    "    top_casts_df = top_casts_df[~top_casts_df.isin(top)].dropna()\n",
    "\n",
    "cast_movie_df.isna().sum()"
   ]
  },
  {
   "cell_type": "markdown",
   "metadata": {},
   "source": [
    "### **Saving Clean Dataset:**"
   ]
  },
  {
   "cell_type": "code",
   "execution_count": 14,
   "metadata": {},
   "outputs": [],
   "source": [
    "new_movies_df.to_csv('./data/movies_data.csv')"
   ]
  }
 ],
 "metadata": {
  "kernelspec": {
   "display_name": ".venv",
   "language": "python",
   "name": "python3"
  },
  "language_info": {
   "codemirror_mode": {
    "name": "ipython",
    "version": 3
   },
   "file_extension": ".py",
   "mimetype": "text/x-python",
   "name": "python",
   "nbconvert_exporter": "python",
   "pygments_lexer": "ipython3",
   "version": "3.10.11"
  }
 },
 "nbformat": 4,
 "nbformat_minor": 2
}
